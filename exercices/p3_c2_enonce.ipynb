{
 "cells": [
  {
   "cell_type": "code",
   "execution_count": null,
   "metadata": {},
   "outputs": [],
   "source": [
    "import bentoml\n",
    "import numpy as np"
   ]
  },
  {
   "cell_type": "markdown",
   "metadata": {},
   "source": [
    "Voici le squelette de service tel qu'il était présenté dans le screencast du cours "
   ]
  },
  {
   "cell_type": "code",
   "execution_count": null,
   "metadata": {},
   "outputs": [],
   "source": [
    "@bentoml.service()\n",
    "class TransactionPrediction:\n",
    "    \n",
    "    transaction_classifiers = bentoml.models.get(\n",
    "        \"transaction_below_market_identifier:latest\"\n",
    "    ) \n",
    "    \n",
    "    transaction_regressors = bentoml.models.get(\n",
    "        \"transaction_value_estimator:latest\"\n",
    "    ) \n",
    "\n",
    "    def __init__(self):\n",
    "\n",
    "        self.classifier = bentoml.sklearn.load_model(self.transaction_classifier)\n",
    "        self.regressor = bentoml.sklearn.load_model(self.transaction_regressor)\n",
    "\n",
    "    @bentoml.api\n",
    "    def predict(self, transactions: np.ndarray) -> tuple[np.ndarray, np.ndarray]:\n",
    "        \n",
    "        \n",
    "        predicted_classes = self.classifier.predict(transactions)\n",
    "        predicted_transactions = self.regressor.predict(transactions)\n",
    "        return (predicted_transactions, predicted_classes)\n"
   ]
  }
 ],
 "metadata": {
  "language_info": {
   "name": "python"
  }
 },
 "nbformat": 4,
 "nbformat_minor": 2
}
