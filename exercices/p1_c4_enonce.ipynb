{
 "cells": [
  {
   "cell_type": "code",
   "execution_count": 14,
   "metadata": {},
   "outputs": [],
   "source": [
    "import polars as pl \n",
    "import json \n",
    "import numpy as np\n",
    "\n",
    "from sklearn.model_selection import cross_validate, TimeSeriesSplit\n",
    "from xgboost import XGBClassifier"
   ]
  },
  {
   "cell_type": "code",
   "execution_count": 15,
   "metadata": {},
   "outputs": [],
   "source": [
    "# Changer l'adresse des fichiers si besoin \n",
    "transactions = pl.read_parquet(\"transactions_post_feature_engineering.parquet\")\n",
    "with open(\"features_used.json\", \"r\") as f:\n",
    "    feature_names = json.load(f)\n",
    "\n",
    "\n",
    "selected_region = \"nom_region_Occitanie\"\n",
    "region_transactions = transactions.filter(pl.col(selected_region) == 1)"
   ]
  },
  {
   "cell_type": "code",
   "execution_count": 16,
   "metadata": {},
   "outputs": [],
   "source": [
    "\n",
    "X = region_transactions.drop([REGRESSION_TARGET, CLASSIFICATION_TARGET])\n",
    "y_classification = region_transactions[CLASSIFICATION_TARGET]\n"
   ]
  },
  {
   "cell_type": "code",
   "execution_count": 17,
   "metadata": {},
   "outputs": [],
   "source": [
    "def perform_cross_validation(\n",
    "    X: pl.DataFrame,\n",
    "    y: pl.Series,\n",
    "    model,\n",
    "    cross_val_type,\n",
    "    scoring_metrics: tuple,\n",
    "    return_estimator=False,\n",
    "    groups=None,\n",
    "):\n",
    "    scores = cross_validate(\n",
    "        model,\n",
    "        X.to_numpy(),\n",
    "        y.to_numpy(),\n",
    "        cv=cross_val_type,\n",
    "        return_train_score=True,\n",
    "        return_estimator=return_estimator,\n",
    "        scoring=scoring_metrics,\n",
    "        groups=groups,\n",
    "    )\n",
    "\n",
    "    for metric in scoring_metrics:\n",
    "        print(\n",
    "            \"Average Train {metric} : {metric_value}\".format(\n",
    "                metric=metric,\n",
    "                metric_value=np.mean(scores[\"train_\" + metric]),\n",
    "            )\n",
    "        )\n",
    "        print(\n",
    "            \"Train {metric} Standard Deviation : {metric_value}\".format(\n",
    "                metric=metric, metric_value=np.std(scores[\"train_\" + metric])\n",
    "            )\n",
    "        )\n",
    "\n",
    "        print(\n",
    "            \"Average Test {metric} : {metric_value}\".format(\n",
    "                metric=metric, metric_value=np.mean(scores[\"test_\" + metric])\n",
    "            )\n",
    "        )\n",
    "        print(\n",
    "            \"Test {metric} Standard Deviation : {metric_value}\".format(\n",
    "                metric=metric, metric_value=np.std(scores[\"test_\" + metric])\n",
    "            )\n",
    "        )\n",
    "\n",
    "    return scores"
   ]
  }
 ],
 "metadata": {
  "kernelspec": {
   "display_name": ".venv",
   "language": "python",
   "name": "python3"
  },
  "language_info": {
   "codemirror_mode": {
    "name": "ipython",
    "version": 3
   },
   "file_extension": ".py",
   "mimetype": "text/x-python",
   "name": "python",
   "nbconvert_exporter": "python",
   "pygments_lexer": "ipython3",
   "version": "3.12.5"
  }
 },
 "nbformat": 4,
 "nbformat_minor": 2
}
