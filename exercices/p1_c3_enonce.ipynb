{
 "cells": [
  {
   "cell_type": "code",
   "execution_count": 2,
   "metadata": {},
   "outputs": [],
   "source": [
    "import pandas as pd \n",
    "import polars as pl"
   ]
  },
  {
   "cell_type": "markdown",
   "metadata": {},
   "source": [
    "### Version Polars "
   ]
  },
  {
   "cell_type": "code",
   "execution_count": 38,
   "metadata": {},
   "outputs": [],
   "source": [
    "#REMPLACER ICI PAR L'EMPLACEMENT DE VOTRE FICHIER\n",
    "transactions_per_city = pl.read_parquet(\"transactions_par_ville.parquet\")\n",
    "\n",
    "\n",
    "transactions_per_city = transactions_per_city.with_columns(\n",
    "    pl.col(\"departement\").cast(pl.Int32),\n",
    "    pl.col(\"mois_transaction\").cast(pl.Int32),\n",
    ")"
   ]
  },
  {
   "cell_type": "code",
   "execution_count": 40,
   "metadata": {},
   "outputs": [],
   "source": [
    "def compute_features_price_per_m2(\n",
    "    average_per_month_per_city: pl.DataFrame,\n",
    "    sort_columns: list = [\n",
    "        \"departement\",\n",
    "        \"ville\",\n",
    "        \"id_ville\",\n",
    "        \"annee_transaction\",\n",
    "        \"mois_transaction\",\n",
    "    ],\n",
    "):\n",
    "\n",
    "\n",
    "    average_per_month_per_city = (\n",
    "        average_per_month_per_city.sort(sort_columns)\n",
    "        .with_columns(\n",
    "            pl.col(\"prix_m2_moyen\")\n",
    "            .shift()\n",
    "            .over(aggregation_columns)\n",
    "            .alias(\"prix_m2_moyen_mois_precedent\"),\n",
    "            pl.col(NB_TRANSACTIONS_PER_MONTH)\n",
    "            .shift()\n",
    "            .over(aggregation_columns)\n",
    "            .alias(\"nb_transactions_mois_precedent\"),\n",
    "        )\n",
    "        .filter(\n",
    "            pl.all_horizontal(\n",
    "                pl.col(pl.Float32, pl.Float64, pl.Int32, pl.Int64).is_not_nan()\n",
    "            )\n",
    "        )\n",
    "    )\n",
    "\n",
    "    return average_per_month_per_city"
   ]
  },
  {
   "cell_type": "markdown",
   "metadata": {},
   "source": [
    "### Version Pandas"
   ]
  },
  {
   "cell_type": "code",
   "execution_count": 71,
   "metadata": {},
   "outputs": [],
   "source": [
    "#REMPLACER ICI PAR L'EMPLACEMENT DE VOTRE FICHIER\n",
    "transactions_per_city = pd.read_parquet(\"transactions_par_ville.parquet\")\n"
   ]
  },
  {
   "cell_type": "code",
   "execution_count": null,
   "metadata": {},
   "outputs": [],
   "source": [
    "### Ecrivez votre fonction "
   ]
  },
  {
   "cell_type": "markdown",
   "metadata": {},
   "source": [
    "### Pourquoi le scaling avant la séparation Train-Test constitue une forme de Data Leakage ?"
   ]
  },
  {
   "cell_type": "markdown",
   "metadata": {},
   "source": [
    "Votre réponse ici ! "
   ]
  },
  {
   "cell_type": "markdown",
   "metadata": {},
   "source": []
  }
 ],
 "metadata": {
  "kernelspec": {
   "display_name": ".venv",
   "language": "python",
   "name": "python3"
  },
  "language_info": {
   "codemirror_mode": {
    "name": "ipython",
    "version": 3
   },
   "file_extension": ".py",
   "mimetype": "text/x-python",
   "name": "python",
   "nbconvert_exporter": "python",
   "pygments_lexer": "ipython3",
   "version": "3.12.5"
  }
 },
 "nbformat": 4,
 "nbformat_minor": 2
}
