{
 "cells": [
  {
   "cell_type": "code",
   "execution_count": 16,
   "metadata": {},
   "outputs": [],
   "source": [
    "import pandas as pd \n",
    "import polars as pl\n",
    "import sys \n",
    "import os \n",
    "import numpy as np \n",
    "sys.path.append(\"..\")\n",
    "\n",
    "from settings import NB_TRANSACTIONS_PER_MONTH, PROJECT_PATH, REGRESSION_TARGET,CLASSIFICATION_TARGET"
   ]
  },
  {
   "cell_type": "code",
   "execution_count": 17,
   "metadata": {},
   "outputs": [],
   "source": [
    "transactions = pl.read_parquet(\n",
    "    os.path.join(PROJECT_PATH, \"transactions_post_feature_engineering.parquet\")\n",
    ")"
   ]
  },
  {
   "cell_type": "markdown",
   "metadata": {},
   "source": [
    "Comme exemple de modèle étalon un peu plus complexe, on peut généraliser l'idée d'avoir la moyenne de la target en calculant cette fois-ci la moyenne de la ville pour chaque mois ! Et c'est une information que nous avons déjà calculé d'ailleurs pendant la phase de feature engineering ! L'information est stockée dans la colonne prix_m2_moyen_mois_precedent"
   ]
  },
  {
   "cell_type": "code",
   "execution_count": 18,
   "metadata": {},
   "outputs": [
    {
     "data": {
      "text/html": [
       "<div><style>\n",
       ".dataframe > thead > tr,\n",
       ".dataframe > tbody > tr {\n",
       "  text-align: right;\n",
       "  white-space: pre-wrap;\n",
       "}\n",
       "</style>\n",
       "<small>shape: (449_172,)</small><table border=\"1\" class=\"dataframe\"><thead><tr><th>prix_m2_moyen_mois_precedent</th></tr><tr><td>f64</td></tr></thead><tbody><tr><td>1241.194799</td></tr><tr><td>1241.194799</td></tr><tr><td>1241.194799</td></tr><tr><td>1241.194799</td></tr><tr><td>1241.194799</td></tr><tr><td>&hellip;</td></tr><tr><td>3853.821448</td></tr><tr><td>3853.821448</td></tr><tr><td>3711.043574</td></tr><tr><td>3853.821448</td></tr><tr><td>3853.821448</td></tr></tbody></table></div>"
      ],
      "text/plain": [
       "shape: (449_172,)\n",
       "Series: 'prix_m2_moyen_mois_precedent' [f64]\n",
       "[\n",
       "\t1241.194799\n",
       "\t1241.194799\n",
       "\t1241.194799\n",
       "\t1241.194799\n",
       "\t1241.194799\n",
       "\t…\n",
       "\t3853.821448\n",
       "\t3853.821448\n",
       "\t3711.043574\n",
       "\t3853.821448\n",
       "\t3853.821448\n",
       "]"
      ]
     },
     "execution_count": 18,
     "metadata": {},
     "output_type": "execute_result"
    }
   ],
   "source": [
    "transactions[\"prix_m2_moyen_mois_precedent\"]"
   ]
  },
  {
   "cell_type": "markdown",
   "metadata": {},
   "source": [
    "La \"prediction\" du \"modèle\" devient alors tout simplement la valeur de cette colonne"
   ]
  },
  {
   "cell_type": "code",
   "execution_count": 19,
   "metadata": {},
   "outputs": [],
   "source": [
    "X = transactions.drop([REGRESSION_TARGET, CLASSIFICATION_TARGET])\n",
    "y_pred = transactions[\"prix_m2_moyen_mois_precedent\"]\n",
    "y_regression = transactions[REGRESSION_TARGET]"
   ]
  },
  {
   "cell_type": "markdown",
   "metadata": {},
   "source": [
    "Nous avons désormais des \"predictions\" ainsi que notre target. On peut alors calculer toutes nos métriques de performances comme nous le souhaitons ! "
   ]
  },
  {
   "cell_type": "code",
   "execution_count": 20,
   "metadata": {},
   "outputs": [],
   "source": [
    "from sklearn.metrics import mean_squared_error, mean_absolute_error, r2_score"
   ]
  },
  {
   "cell_type": "code",
   "execution_count": 22,
   "metadata": {},
   "outputs": [
    {
     "name": "stdout",
     "output_type": "stream",
     "text": [
      "RMSE :  371474.18203455745\n",
      "MAE :  242045.18741309742\n",
      "R2 :  -13640.792490333895\n"
     ]
    }
   ],
   "source": [
    "\n",
    "rmse = np.sqrt(mean_squared_error(y_pred, y_regression))\n",
    "print(\"RMSE : \", rmse)\n",
    "mae = mean_absolute_error(y_pred, y_regression)\n",
    "print(\"MAE : \", mae)\n",
    "r2 = r2_score(y_pred, y_regression)\n",
    "print(\"R2 : \", r2)"
   ]
  },
  {
   "cell_type": "markdown",
   "metadata": {},
   "source": [
    "Un R2 négatif ! Il y a clairement espoir qu'un modèle de ML puisse faire mieux que cela ! Ce résultat est aussi intéressant car il nous permets de déduire qu'il n'est pas réaliste d'obtenir une estimation fiable du prix d'une transaction en se basant uniquement sur une moyenne globale."
   ]
  },
  {
   "cell_type": "markdown",
   "metadata": {},
   "source": [
    "Remarquez qu'ici, nous n'avons pas réalisé de séparation train et test. Cela serait en effet inutile car nous n'utilisons pas un modèle statistique, mais une règle déterministe qui ne connait pas l'overfit ou l'underfit  ! "
   ]
  },
  {
   "cell_type": "markdown",
   "metadata": {},
   "source": []
  }
 ],
 "metadata": {
  "kernelspec": {
   "display_name": ".venv",
   "language": "python",
   "name": "python3"
  },
  "language_info": {
   "codemirror_mode": {
    "name": "ipython",
    "version": 3
   },
   "file_extension": ".py",
   "mimetype": "text/x-python",
   "name": "python",
   "nbconvert_exporter": "python",
   "pygments_lexer": "ipython3",
   "version": "3.12.6"
  }
 },
 "nbformat": 4,
 "nbformat_minor": 2
}
