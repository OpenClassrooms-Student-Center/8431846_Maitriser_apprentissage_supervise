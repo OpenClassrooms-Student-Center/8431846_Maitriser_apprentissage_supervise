{
  "cells": [
    {
      "cell_type": "code",
      "execution_count": 30,
      "metadata": {
        "id": "vjQOyPwugG5-"
      },
      "outputs": [],
      "source": [
        "import polars as pl\n",
        "REGRESSION_TARGET = \"prix\"\n",
        "CLASSIFICATION_TARGET = \"en_dessous_du_marche\"\n"
      ]
    },
    {
      "cell_type": "code",
      "execution_count": 4,
      "metadata": {
        "id": "6hpknnDhgYdD"
      },
      "outputs": [],
      "source": [
        "# A REMPLACER EN FONCTION DE LA LOCALISATION DE VOTRE DONNEE DANS VOTRE DOSSIER\n",
        "transactions = pl.read_parquet(\"transactions_immobilieres.parquet\")\n"
      ]
    },
    {
      "cell_type": "markdown",
      "metadata": {
        "id": "r8xuRLFAr0Iu"
      },
      "source": [
        "## AVDJ P1C2"
      ]
    },
    {
      "cell_type": "markdown",
      "metadata": {
        "id": "5FBI6-0nwp74"
      },
      "source": [
        "On va se limiter au pérmiètre suivant pour ce exercice "
      ]
    },
    {
      "cell_type": "code",
      "execution_count": 56,
      "metadata": {
        "id": "Y8DD1zOpvS0H"
      },
      "outputs": [],
      "source": [
        "transactions_exercice = transactions.filter(\n",
        "    pl.col(\"departement\") == 75,\n",
        ").select([\"surface_habitable\", \"n_pieces\", \"prix\", \"vefa\", \"mois_transaction\", \"annee_transaction\"])\n",
        "\n",
        "\n",
        "X = transactions_exercice.drop(\"prix\")\n",
        "y = transactions_exercice[\"prix\"]\n"
      ]
    },
    {
      "cell_type": "code",
      "execution_count": 57,
      "metadata": {
        "id": "Ou5_osZzry5V"
      },
      "outputs": [],
      "source": [
        "import statsmodels.api as sm"
      ]
    },
    {
      "cell_type": "markdown",
      "metadata": {},
      "source": [
        "On entraine la regression linéaire avec la syntaxe de statsmodels. Cette librairie n'est malheureusement pas compatible avec Polars, nous devons le convertir en DataFrame Pandas avec la méthode to_pandas()"
      ]
    },
    {
      "cell_type": "code",
      "execution_count": 59,
      "metadata": {
        "id": "ibV8lMlIu_GM"
      },
      "outputs": [],
      "source": [
        "\n",
        "linear_regressor = sm.OLS(endog = y.to_pandas(), exog = X.to_pandas()).fit()"
      ]
    },
    {
      "cell_type": "markdown",
      "metadata": {},
      "source": [
        "La méthode summary() nous donne toutes les informations pertinentes sur la regression linéaire"
      ]
    },
    {
      "cell_type": "code",
      "execution_count": 60,
      "metadata": {
        "colab": {
          "base_uri": "https://localhost:8080/",
          "height": 568
        },
        "id": "Z3fTP_hWu-4w",
        "outputId": "f8a4a6a6-61a1-4fa8-9354-314c5c6d224d"
      },
      "outputs": [
        {
          "data": {
            "text/html": [
              "<table class=\"simpletable\">\n",
              "<caption>OLS Regression Results</caption>\n",
              "<tr>\n",
              "  <th>Dep. Variable:</th>          <td>prix</td>       <th>  R-squared (uncentered):</th>       <td>   0.819</td>  \n",
              "</tr>\n",
              "<tr>\n",
              "  <th>Model:</th>                   <td>OLS</td>       <th>  Adj. R-squared (uncentered):</th>  <td>   0.819</td>  \n",
              "</tr>\n",
              "<tr>\n",
              "  <th>Method:</th>             <td>Least Squares</td>  <th>  F-statistic:       </th>           <td>1.012e+05</td> \n",
              "</tr>\n",
              "<tr>\n",
              "  <th>Date:</th>             <td>Wed, 24 Jul 2024</td> <th>  Prob (F-statistic):</th>            <td>  0.00</td>   \n",
              "</tr>\n",
              "<tr>\n",
              "  <th>Time:</th>                 <td>12:51:48</td>     <th>  Log-Likelihood:    </th>          <td>-1.5588e+06</td>\n",
              "</tr>\n",
              "<tr>\n",
              "  <th>No. Observations:</th>      <td>111725</td>      <th>  AIC:               </th>           <td>3.118e+06</td> \n",
              "</tr>\n",
              "<tr>\n",
              "  <th>Df Residuals:</th>          <td>111720</td>      <th>  BIC:               </th>           <td>3.118e+06</td> \n",
              "</tr>\n",
              "<tr>\n",
              "  <th>Df Model:</th>              <td>     5</td>      <th>                     </th>               <td> </td>     \n",
              "</tr>\n",
              "<tr>\n",
              "  <th>Covariance Type:</th>      <td>nonrobust</td>    <th>                     </th>               <td> </td>     \n",
              "</tr>\n",
              "</table>\n",
              "<table class=\"simpletable\">\n",
              "<tr>\n",
              "          <td></td>             <th>coef</th>     <th>std err</th>      <th>t</th>      <th>P>|t|</th>  <th>[0.025</th>    <th>0.975]</th>  \n",
              "</tr>\n",
              "<tr>\n",
              "  <th>surface_habitable</th> <td>  1.12e+04</td> <td>   45.771</td> <td>  244.598</td> <td> 0.000</td> <td> 1.11e+04</td> <td> 1.13e+04</td>\n",
              "</tr>\n",
              "<tr>\n",
              "  <th>n_pieces</th>          <td>-1.295e+04</td> <td> 1308.434</td> <td>   -9.895</td> <td> 0.000</td> <td>-1.55e+04</td> <td>-1.04e+04</td>\n",
              "</tr>\n",
              "<tr>\n",
              "  <th>vefa</th>              <td>-1.709e+04</td> <td>  1.2e+04</td> <td>   -1.428</td> <td> 0.153</td> <td>-4.06e+04</td> <td> 6369.925</td>\n",
              "</tr>\n",
              "<tr>\n",
              "  <th>mois_transaction</th>  <td>  435.9821</td> <td>  241.770</td> <td>    1.803</td> <td> 0.071</td> <td>  -37.883</td> <td>  909.847</td>\n",
              "</tr>\n",
              "<tr>\n",
              "  <th>annee_transaction</th> <td>   -9.5656</td> <td>    1.157</td> <td>   -8.265</td> <td> 0.000</td> <td>  -11.834</td> <td>   -7.297</td>\n",
              "</tr>\n",
              "</table>\n",
              "<table class=\"simpletable\">\n",
              "<tr>\n",
              "  <th>Omnibus:</th>       <td>137979.569</td> <th>  Durbin-Watson:     </th>   <td>   1.990</td>   \n",
              "</tr>\n",
              "<tr>\n",
              "  <th>Prob(Omnibus):</th>   <td> 0.000</td>   <th>  Jarque-Bera (JB):  </th> <td>357047942.483</td>\n",
              "</tr>\n",
              "<tr>\n",
              "  <th>Skew:</th>            <td> 5.685</td>   <th>  Prob(JB):          </th>   <td>    0.00</td>   \n",
              "</tr>\n",
              "<tr>\n",
              "  <th>Kurtosis:</th>        <td>279.712</td>  <th>  Cond. No.          </th>   <td>2.91e+04</td>   \n",
              "</tr>\n",
              "</table><br/><br/>Notes:<br/>[1] R² is computed without centering (uncentered) since the model does not contain a constant.<br/>[2] Standard Errors assume that the covariance matrix of the errors is correctly specified.<br/>[3] The condition number is large, 2.91e+04. This might indicate that there are<br/>strong multicollinearity or other numerical problems."
            ],
            "text/latex": [
              "\\begin{center}\n",
              "\\begin{tabular}{lclc}\n",
              "\\toprule\n",
              "\\textbf{Dep. Variable:}     &       prix       & \\textbf{  R-squared (uncentered):}      &       0.819    \\\\\n",
              "\\textbf{Model:}             &       OLS        & \\textbf{  Adj. R-squared (uncentered):} &       0.819    \\\\\n",
              "\\textbf{Method:}            &  Least Squares   & \\textbf{  F-statistic:       }          &   1.012e+05    \\\\\n",
              "\\textbf{Date:}              & Wed, 24 Jul 2024 & \\textbf{  Prob (F-statistic):}          &       0.00     \\\\\n",
              "\\textbf{Time:}              &     12:51:48     & \\textbf{  Log-Likelihood:    }          &  -1.5588e+06   \\\\\n",
              "\\textbf{No. Observations:}  &      111725      & \\textbf{  AIC:               }          &   3.118e+06    \\\\\n",
              "\\textbf{Df Residuals:}      &      111720      & \\textbf{  BIC:               }          &   3.118e+06    \\\\\n",
              "\\textbf{Df Model:}          &           5      & \\textbf{                     }          &                \\\\\n",
              "\\textbf{Covariance Type:}   &    nonrobust     & \\textbf{                     }          &                \\\\\n",
              "\\bottomrule\n",
              "\\end{tabular}\n",
              "\\begin{tabular}{lcccccc}\n",
              "                            & \\textbf{coef} & \\textbf{std err} & \\textbf{t} & \\textbf{P$> |$t$|$} & \\textbf{[0.025} & \\textbf{0.975]}  \\\\\n",
              "\\midrule\n",
              "\\textbf{surface\\_habitable} &     1.12e+04  &       45.771     &   244.598  &         0.000        &     1.11e+04    &     1.13e+04     \\\\\n",
              "\\textbf{n\\_pieces}          &   -1.295e+04  &     1308.434     &    -9.895  &         0.000        &    -1.55e+04    &    -1.04e+04     \\\\\n",
              "\\textbf{vefa}               &   -1.709e+04  &      1.2e+04     &    -1.428  &         0.153        &    -4.06e+04    &     6369.925     \\\\\n",
              "\\textbf{mois\\_transaction}  &     435.9821  &      241.770     &     1.803  &         0.071        &      -37.883    &      909.847     \\\\\n",
              "\\textbf{annee\\_transaction} &      -9.5656  &        1.157     &    -8.265  &         0.000        &      -11.834    &       -7.297     \\\\\n",
              "\\bottomrule\n",
              "\\end{tabular}\n",
              "\\begin{tabular}{lclc}\n",
              "\\textbf{Omnibus:}       & 137979.569 & \\textbf{  Durbin-Watson:     } &       1.990    \\\\\n",
              "\\textbf{Prob(Omnibus):} &    0.000   & \\textbf{  Jarque-Bera (JB):  } & 357047942.483  \\\\\n",
              "\\textbf{Skew:}          &    5.685   & \\textbf{  Prob(JB):          } &        0.00    \\\\\n",
              "\\textbf{Kurtosis:}      &  279.712   & \\textbf{  Cond. No.          } &    2.91e+04    \\\\\n",
              "\\bottomrule\n",
              "\\end{tabular}\n",
              "%\\caption{OLS Regression Results}\n",
              "\\end{center}\n",
              "\n",
              "Notes: \\newline\n",
              " [1] R² is computed without centering (uncentered) since the model does not contain a constant. \\newline\n",
              " [2] Standard Errors assume that the covariance matrix of the errors is correctly specified. \\newline\n",
              " [3] The condition number is large, 2.91e+04. This might indicate that there are \\newline\n",
              " strong multicollinearity or other numerical problems."
            ],
            "text/plain": [
              "<class 'statsmodels.iolib.summary.Summary'>\n",
              "\"\"\"\n",
              "                                 OLS Regression Results                                \n",
              "=======================================================================================\n",
              "Dep. Variable:                   prix   R-squared (uncentered):                   0.819\n",
              "Model:                            OLS   Adj. R-squared (uncentered):              0.819\n",
              "Method:                 Least Squares   F-statistic:                          1.012e+05\n",
              "Date:                Wed, 24 Jul 2024   Prob (F-statistic):                        0.00\n",
              "Time:                        12:51:48   Log-Likelihood:                     -1.5588e+06\n",
              "No. Observations:              111725   AIC:                                  3.118e+06\n",
              "Df Residuals:                  111720   BIC:                                  3.118e+06\n",
              "Df Model:                           5                                                  \n",
              "Covariance Type:            nonrobust                                                  \n",
              "=====================================================================================\n",
              "                        coef    std err          t      P>|t|      [0.025      0.975]\n",
              "-------------------------------------------------------------------------------------\n",
              "surface_habitable   1.12e+04     45.771    244.598      0.000    1.11e+04    1.13e+04\n",
              "n_pieces          -1.295e+04   1308.434     -9.895      0.000   -1.55e+04   -1.04e+04\n",
              "vefa              -1.709e+04    1.2e+04     -1.428      0.153   -4.06e+04    6369.925\n",
              "mois_transaction    435.9821    241.770      1.803      0.071     -37.883     909.847\n",
              "annee_transaction    -9.5656      1.157     -8.265      0.000     -11.834      -7.297\n",
              "==============================================================================\n",
              "Omnibus:                   137979.569   Durbin-Watson:                   1.990\n",
              "Prob(Omnibus):                  0.000   Jarque-Bera (JB):        357047942.483\n",
              "Skew:                           5.685   Prob(JB):                         0.00\n",
              "Kurtosis:                     279.712   Cond. No.                     2.91e+04\n",
              "==============================================================================\n",
              "\n",
              "Notes:\n",
              "[1] R² is computed without centering (uncentered) since the model does not contain a constant.\n",
              "[2] Standard Errors assume that the covariance matrix of the errors is correctly specified.\n",
              "[3] The condition number is large, 2.91e+04. This might indicate that there are\n",
              "strong multicollinearity or other numerical problems.\n",
              "\"\"\""
            ]
          },
          "execution_count": 60,
          "metadata": {},
          "output_type": "execute_result"
        }
      ],
      "source": [
        "linear_regressor.summary()"
      ]
    },
    {
      "cell_type": "markdown",
      "metadata": {
        "id": "kZniY3de0PZR"
      },
      "source": [
        "À vous de continuer le processus d'élimination backwards jusqu'à l'obtention du jeu de features final ! Une fois sécurisé, interprétez le fonctionnement du modèle. Pour cela, vous pouvez vous poser la question suivante :\n",
        "* Quelle est l'équation entre mes features et ma target ?\n",
        "* Comment est affectée la target quand une feature augmente ou diminue en valeur ?"
      ]
    }
  ],
  "metadata": {
    "colab": {
      "provenance": []
    },
    "kernelspec": {
      "display_name": "Python 3",
      "name": "python3"
    },
    "language_info": {
      "name": "python"
    }
  },
  "nbformat": 4,
  "nbformat_minor": 0
}
