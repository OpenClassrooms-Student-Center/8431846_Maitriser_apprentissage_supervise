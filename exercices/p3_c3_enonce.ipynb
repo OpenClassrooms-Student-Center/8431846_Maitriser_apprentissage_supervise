{
 "cells": [
  {
   "cell_type": "code",
   "execution_count": null,
   "metadata": {},
   "outputs": [],
   "source": [
    "import matplotlib.pyplot as plt\n",
    "from sklearn.model_selection import train_test_split\n",
    "import pandas as pd\n",
    "import numpy as np\n",
    "import json\n",
    "import os\n",
    "import sys\n",
    "\n",
    "sys.path.append(\"..\")\n",
    "\n",
    "import seaborn as sns\n",
    "\n",
    "sns.set()\n",
    "from settings import (\n",
    "    random_state,\n",
    "    PROJECT_PATH,\n",
    "    REGRESSION_TARGET,\n",
    "    CLASSIFICATION_TARGET,\n",
    ")\n",
    "from catboost import CatBoostClassifier\n",
    "from sklearn.svm import SVC\n"
   ]
  },
  {
   "cell_type": "code",
   "execution_count": null,
   "metadata": {},
   "outputs": [],
   "source": [
    "transactions = pd.read_parquet(\n",
    "    os.path.join(PROJECT_PATH, \"transactions_post_feature_engineering.parquet\")\n",
    ")\n",
    "\n",
    "transactions_extra_info = pd.read_parquet(\"../transactions_extra_infos.parquet\")\n",
    "\n",
    "with open(\"features_used.json\", \"r\") as f:\n",
    "    feature_names = json.load(f)\n",
    "\n",
    "with open(\"categorical_features_used.json\", \"r\") as f:\n",
    "    categorical_features = json.load(f)\n",
    "\n",
    "numerical_features = [col for col in feature_names if col not in categorical_features]\n",
    "\n"
   ]
  },
  {
   "cell_type": "code",
   "execution_count": null,
   "metadata": {},
   "outputs": [],
   "source": [
    "transactions = transactions.merge(\n",
    "    transactions_extra_info[[\"id_transaction\", \"date_transaction\"]],\n",
    "    on=\"id_transaction\",\n",
    "    how=\"left\",\n",
    ")\n",
    "\n",
    "transactions[\"anne_mois\"] = transactions[\"date_transaction\"].dt.to_period(\"M\")"
   ]
  },
  {
   "cell_type": "code",
   "execution_count": null,
   "metadata": {},
   "outputs": [],
   "source": [
    "transactions_pre_covid = transactions[transactions[\"anne_mois\"] < \"2020-03\"]\n",
    "\n",
    "transactions_covid = transactions[\n",
    "    transactions[\"anne_mois\"].between(\"2020-03\", \"2021-07\")\n",
    "]\n",
    "transactions_post_covid = transactions[transactions[\"anne_mois\"] > \"2021-07\"]"
   ]
  }
 ],
 "metadata": {
  "language_info": {
   "name": "python"
  }
 },
 "nbformat": 4,
 "nbformat_minor": 2
}
