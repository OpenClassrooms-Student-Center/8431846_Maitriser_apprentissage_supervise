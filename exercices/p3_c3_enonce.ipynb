{
 "cells": [
  {
   "cell_type": "code",
   "execution_count": 10,
   "metadata": {},
   "outputs": [],
   "source": [
    "import pandas as pd \n",
    "import json \n",
    "import os \n",
    "import sys \n",
    "\n",
    "sys.path.append(\"..\")\n",
    "from settings import PROJECT_PATH, CLASSIFICATION_TARGET, REGRESSION_TARGET"
   ]
  },
  {
   "cell_type": "markdown",
   "metadata": {},
   "source": [
    "### Chargement de la donnée "
   ]
  },
  {
   "cell_type": "code",
   "execution_count": 2,
   "metadata": {},
   "outputs": [],
   "source": [
    "transactions = pd.read_parquet(\n",
    "    os.path.join(PROJECT_PATH, \"transactions_post_feature_engineering.parquet\")\n",
    ")\n",
    "\n",
    "transactions_extra_info = pd.read_parquet(\"../transactions_extra_infos.parquet\")\n",
    "\n",
    "with open(\"../features_used.json\", \"r\") as f:\n",
    "    feature_names = json.load(f)\n",
    "\n",
    "with open(\"../categorical_features_used.json\", \"r\") as f:\n",
    "    categorical_features = json.load(f)\n",
    "\n",
    "numerical_features = [col for col in feature_names if col not in categorical_features]\n",
    "\n"
   ]
  },
  {
   "cell_type": "markdown",
   "metadata": {},
   "source": [
    "Afin de séparer la donnée en covid et post-covid, nous avons besoin de la date de transaction. Cette information se trouve dans le jeu de données transactions_extra_infos. Une jointure est alors nécessaire."
   ]
  },
  {
   "cell_type": "code",
   "execution_count": 3,
   "metadata": {},
   "outputs": [],
   "source": [
    "transactions = transactions.merge(\n",
    "    transactions_extra_info[[\"id_transaction\", \"date_transaction\"]],\n",
    "    on=\"id_transaction\",\n",
    "    how=\"left\",\n",
    ")\n",
    "\n",
    "transactions[\"anne_mois\"] = transactions[\"date_transaction\"].dt.to_period(\"M\")"
   ]
  },
  {
   "cell_type": "code",
   "execution_count": 4,
   "metadata": {},
   "outputs": [],
   "source": [
    "transactions_pre_covid = transactions[transactions[\"anne_mois\"] < \"2020-03\"]\n",
    "\n",
    "transactions_covid = transactions[\n",
    "    transactions[\"anne_mois\"].between(\"2020-03\", \"2021-07\")\n",
    "]\n",
    "transactions_post_covid = transactions[transactions[\"anne_mois\"] > \"2021-07\"]"
   ]
  }
 ],
 "metadata": {
  "kernelspec": {
   "display_name": ".venv",
   "language": "python",
   "name": "python3"
  },
  "language_info": {
   "codemirror_mode": {
    "name": "ipython",
    "version": 3
   },
   "file_extension": ".py",
   "mimetype": "text/x-python",
   "name": "python",
   "nbconvert_exporter": "python",
   "pygments_lexer": "ipython3",
   "version": "3.12.7"
  }
 },
 "nbformat": 4,
 "nbformat_minor": 2
}
